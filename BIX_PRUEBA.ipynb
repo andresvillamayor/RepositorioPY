{
  "nbformat": 4,
  "nbformat_minor": 0,
  "metadata": {
    "colab": {
      "name": "BIX-PRUEBA.ipynb",
      "provenance": [],
      "authorship_tag": "ABX9TyP7QRl8rOakZboRSYV5vP9W",
      "include_colab_link": true
    },
    "kernelspec": {
      "name": "python3",
      "display_name": "Python 3"
    },
    "language_info": {
      "name": "python"
    }
  },
  "cells": [
    {
      "cell_type": "markdown",
      "metadata": {
        "id": "view-in-github",
        "colab_type": "text"
      },
      "source": [
        "<a href=\"https://colab.research.google.com/github/andresvillamayor/RepositorioPY/blob/master/BIX_PRUEBA.ipynb\" target=\"_parent\"><img src=\"https://colab.research.google.com/assets/colab-badge.svg\" alt=\"Open In Colab\"/></a>"
      ]
    },
    {
      "cell_type": "markdown",
      "metadata": {
        "id": "COT-oMcLk-bR"
      },
      "source": [
        "Prueba BIX "
      ]
    },
    {
      "cell_type": "code",
      "metadata": {
        "colab": {
          "base_uri": "https://localhost:8080/"
        },
        "id": "N5W8I7QkkvCp",
        "outputId": "f8d3002a-efe2-4e22-b652-7098c9688b83"
      },
      "source": [
        "print (' Hola Bixers esto es una prueba')"
      ],
      "execution_count": 1,
      "outputs": [
        {
          "output_type": "stream",
          "name": "stdout",
          "text": [
            " Hola Bixers esto es una prueba\n"
          ]
        }
      ]
    }
  ]
}