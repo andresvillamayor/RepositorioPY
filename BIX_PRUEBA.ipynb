{
  "nbformat": 4,
  "nbformat_minor": 0,
  "metadata": {
    "colab": {
      "name": "BIX-PRUEBA.ipynb",
      "provenance": [],
      "authorship_tag": "ABX9TyPMt1w1yG7jFwBBCngwNjvu",
      "include_colab_link": true
    },
    "kernelspec": {
      "name": "python3",
      "display_name": "Python 3"
    },
    "language_info": {
      "name": "python"
    }
  },
  "cells": [
    {
      "cell_type": "markdown",
      "metadata": {
        "id": "view-in-github",
        "colab_type": "text"
      },
      "source": [
        "<a href=\"https://colab.research.google.com/github/andresvillamayor/RepositorioPY/blob/master/BIX_PRUEBA.ipynb\" target=\"_parent\"><img src=\"https://colab.research.google.com/assets/colab-badge.svg\" alt=\"Open In Colab\"/></a>"
      ]
    },
    {
      "cell_type": "markdown",
      "metadata": {
        "id": "COT-oMcLk-bR"
      },
      "source": [
        "Prueba BIX "
      ]
    },
    {
      "cell_type": "code",
      "metadata": {
        "colab": {
          "base_uri": "https://localhost:8080/"
        },
        "id": "N5W8I7QkkvCp",
        "outputId": "114d19ec-6a43-4f5d-cae9-f3332f13c802"
      },
      "source": [
        "print (' Hola Bixers')"
      ],
      "execution_count": 1,
      "outputs": [
        {
          "output_type": "stream",
          "name": "stdout",
          "text": [
            " Hola Bixers\n"
          ]
        }
      ]
    }
  ]
}