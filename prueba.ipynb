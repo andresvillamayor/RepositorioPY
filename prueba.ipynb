{
  "nbformat": 4,
  "nbformat_minor": 0,
  "metadata": {
    "colab": {
      "name": "prueba.ipynb",
      "provenance": [],
      "authorship_tag": "ABX9TyMqHd2ic4bAMK/YoCmBBY1R",
      "include_colab_link": true
    },
    "kernelspec": {
      "name": "python3",
      "display_name": "Python 3"
    },
    "language_info": {
      "name": "python"
    }
  },
  "cells": [
    {
      "cell_type": "markdown",
      "metadata": {
        "id": "view-in-github",
        "colab_type": "text"
      },
      "source": [
        "<a href=\"https://colab.research.google.com/github/andresvillamayor/RepositorioPY/blob/master/prueba.ipynb\" target=\"_parent\"><img src=\"https://colab.research.google.com/assets/colab-badge.svg\" alt=\"Open In Colab\"/></a>"
      ]
    },
    {
      "cell_type": "code",
      "metadata": {
        "colab": {
          "base_uri": "https://localhost:8080/"
        },
        "id": "HvoCk1judS0J",
        "outputId": "e3d4243a-275d-4f90-d785-0151ad2e5e73"
      },
      "source": [
        "print ('hola mundo')"
      ],
      "execution_count": 3,
      "outputs": [
        {
          "output_type": "stream",
          "name": "stdout",
          "text": [
            "hola mundo\n"
          ]
        }
      ]
    },
    {
      "cell_type": "markdown",
      "metadata": {
        "id": "YPEyqBtEd0bt"
      },
      "source": [
        "ejemplo hola ***mundo***"
      ]
    },
    {
      "cell_type": "code",
      "metadata": {
        "id": "YBrrENBQd6gx"
      },
      "source": [
        ""
      ],
      "execution_count": null,
      "outputs": []
    }
  ]
}