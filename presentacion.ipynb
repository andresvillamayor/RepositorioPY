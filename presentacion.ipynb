{
  "nbformat": 4,
  "nbformat_minor": 0,
  "metadata": {
    "colab": {
      "name": "presentacion.ipynb",
      "provenance": [],
      "collapsed_sections": [],
      "authorship_tag": "ABX9TyPRPxQREUymJ6RCiNP3VfZu",
      "include_colab_link": true
    },
    "kernelspec": {
      "name": "python3",
      "display_name": "Python 3"
    },
    "language_info": {
      "name": "python"
    }
  },
  "cells": [
    {
      "cell_type": "markdown",
      "metadata": {
        "id": "view-in-github",
        "colab_type": "text"
      },
      "source": [
        "<a href=\"https://colab.research.google.com/github/andresvillamayor/RepositorioPY/blob/master/presentacion.ipynb\" target=\"_parent\"><img src=\"https://colab.research.google.com/assets/colab-badge.svg\" alt=\"Open In Colab\"/></a>"
      ]
    },
    {
      "cell_type": "markdown",
      "metadata": {
        "id": "IJR03qSasf9Q"
      },
      "source": [
        "\n",
        "\n",
        "---\n",
        "\n"
      ]
    },
    {
      "cell_type": "markdown",
      "metadata": {
        "id": "jR839Ps0qvNW"
      },
      "source": [
        "![bix-academy-logo-blanco.webp](data:image/webp;base64,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)"
      ]
    },
    {
      "cell_type": "markdown",
      "metadata": {
        "id": "3ChnHzjQsd5j"
      },
      "source": [
        "\n",
        "\n",
        "---\n",
        "\n"
      ]
    },
    {
      "cell_type": "markdown",
      "metadata": {
        "id": "T_Yrv2sjrwlS"
      },
      "source": [
        "#Andrés Villamayor#\n",
        "*Data Engineer en BIX Paraguay*"
      ]
    },
    {
      "cell_type": "markdown",
      "metadata": {
        "id": "ubQNubzANVOG"
      },
      "source": [
        "# **Que es Google Colab.**\n",
        "\n",
        "*Es un producto de Google Research. Permite a cualquier usuario escribir y ejecutar código arbitrario de Python en el navegador. Es especialmente adecuado para tareas de aprendizaje automático, análisis de datos y educación.*\n",
        "\n",
        "- Sin configuración requerida\n",
        "- Acceso gratuito a GPU\n",
        "- Facilidad para compartir\n",
        "\n",
        "\n",
        "1- Programacion en Python \n",
        "\n",
        "2- Para programacion compartida \n",
        "\n",
        "3- Para preparacion de datos \n",
        "\n",
        "4- Uso de librerias para manejo de datos (Machine Learning) \n",
        "\n",
        "5- Levantar Planillas \n",
        "\n",
        "6- Guardar en Planillas \n"
      ]
    },
    {
      "cell_type": "markdown",
      "metadata": {
        "id": "IQ8Jot43N4vK"
      },
      "source": [
        "# **Como uso para mantener mi trabajo en la Nube**\n",
        "\n",
        "1- Conectandose al GitHub\n",
        "\n",
        "2- Conectandose al Drive (google) \n",
        "\n",
        "3- Poder Guardar en el Propio Google Colab"
      ]
    },
    {
      "cell_type": "markdown",
      "metadata": {
        "id": "30VBvYPRsPAD"
      },
      "source": [
        "\n",
        "\n",
        "---\n",
        "\n"
      ]
    },
    {
      "cell_type": "markdown",
      "metadata": {
        "id": "tCLAgKkHxIpS"
      },
      "source": [
        "# Que significa la extension .*IPYNB*"
      ]
    },
    {
      "cell_type": "markdown",
      "metadata": {
        "id": "KOGEyGuUxlub"
      },
      "source": [
        "Las Siglas IPYNB ( Interactive Python Notebook) viene de Jupyter Notebook \n",
        "\n",
        "[nbviewer](https://nbviewer.org/)"
      ]
    },
    {
      "cell_type": "markdown",
      "metadata": {
        "id": "DZhecZ4WsRkJ"
      },
      "source": [
        "#Python#"
      ]
    },
    {
      "cell_type": "markdown",
      "metadata": {
        "id": "s6OR8dJg7uJj"
      },
      "source": [
        "**Ejemplos**\n",
        "\n",
        "- Comentarios \n",
        "\n",
        "- Programas"
      ]
    },
    {
      "cell_type": "code",
      "metadata": {
        "id": "jphot7bIsah-"
      },
      "source": [
        "''' Se puede imprimir igual '''\n",
        "print(\"Hola BIXERS\")"
      ],
      "execution_count": null,
      "outputs": []
    },
    {
      "cell_type": "code",
      "metadata": {
        "id": "k3Bo4-PO68Bt"
      },
      "source": [
        "#  se respeta la identacion \n",
        "numeros = (1,2,3,4,5,6,7,8,9,10)\n",
        "for i in numeros:\n",
        "   print (i)  "
      ],
      "execution_count": null,
      "outputs": []
    },
    {
      "cell_type": "markdown",
      "metadata": {
        "id": "NJFLTCEI08o4"
      },
      "source": [
        "# Preparacion de Datos \n",
        "\n",
        "1- Conexion a fuente de datos (Drive)"
      ]
    },
    {
      "cell_type": "markdown",
      "metadata": {
        "id": "2x1r9paP_9uQ"
      },
      "source": [
        "Importar las liberias \n",
        "\n",
        "1- drive\n",
        "\n",
        "2- pandas"
      ]
    },
    {
      "cell_type": "code",
      "metadata": {
        "id": "NqFkW7Me2X-o"
      },
      "source": [
        "from  google.colab import drive\n",
        "import pandas as pd"
      ],
      "execution_count": 10,
      "outputs": []
    },
    {
      "cell_type": "code",
      "metadata": {
        "id": "svEdjbeF9hqs"
      },
      "source": [
        "drive.mount(\"/content/drive\")"
      ],
      "execution_count": null,
      "outputs": []
    },
    {
      "cell_type": "markdown",
      "metadata": {
        "id": "QE52z9MP_vW0"
      },
      "source": [
        "Creando un DataFrame con Pandas"
      ]
    },
    {
      "cell_type": "code",
      "metadata": {
        "id": "iEMB0pWg9tJJ"
      },
      "source": [
        "data = pd.read_csv(\"/content/drive/My Drive/DatosPruebaBix/creditos.csv\", sep = \",\" , engine=\"python\")"
      ],
      "execution_count": 12,
      "outputs": []
    },
    {
      "cell_type": "markdown",
      "metadata": {
        "id": "CpUHu5pF_zsK"
      },
      "source": [
        "Usar la funcion Head ( por defecto trae los primeros 5 registros) "
      ]
    },
    {
      "cell_type": "code",
      "metadata": {
        "id": "uF-QJUn6-UyM"
      },
      "source": [
        "data.head()"
      ],
      "execution_count": null,
      "outputs": []
    }
  ]
}