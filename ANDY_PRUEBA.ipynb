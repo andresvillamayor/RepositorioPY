{
  "nbformat": 4,
  "nbformat_minor": 0,
  "metadata": {
    "colab": {
      "name": "ANDY-PRUEBA.ipynb",
      "provenance": [],
      "authorship_tag": "ABX9TyM7vnqKZw5/Q5dRJUvZTURI",
      "include_colab_link": true
    },
    "kernelspec": {
      "name": "python3",
      "display_name": "Python 3"
    },
    "language_info": {
      "name": "python"
    }
  },
  "cells": [
    {
      "cell_type": "markdown",
      "metadata": {
        "id": "view-in-github",
        "colab_type": "text"
      },
      "source": [
        "<a href=\"https://colab.research.google.com/github/andresvillamayor/RepositorioPY/blob/master/ANDY_PRUEBA.ipynb\" target=\"_parent\"><img src=\"https://colab.research.google.com/assets/colab-badge.svg\" alt=\"Open In Colab\"/></a>"
      ]
    },
    {
      "cell_type": "markdown",
      "metadata": {
        "id": "U4Qfl1uviOG-"
      },
      "source": [
        "Prueba de BIX "
      ]
    },
    {
      "cell_type": "code",
      "metadata": {
        "colab": {
          "base_uri": "https://localhost:8080/"
        },
        "id": "tus_ypAmhp0z",
        "outputId": "ba0b66bf-11b9-4f49-a76e-c81f676a6585"
      },
      "source": [
        "print ('Hola Bixers')"
      ],
      "execution_count": null,
      "outputs": [
        {
          "output_type": "stream",
          "name": "stdout",
          "text": [
            "Hola Bixers\n"
          ]
        }
      ]
    },
    {
      "cell_type": "code",
      "metadata": {
        "id": "lbICVa8xiSt1",
        "outputId": "66aa5f42-f0ab-4c52-c5d3-b4fe63f081de",
        "colab": {
          "base_uri": "https://localhost:8080/"
        }
      },
      "source": [
        "print ('recuperado del Git')"
      ],
      "execution_count": 2,
      "outputs": [
        {
          "output_type": "stream",
          "name": "stdout",
          "text": [
            "recuperado del Git\n"
          ]
        }
      ]
    }
  ]
}